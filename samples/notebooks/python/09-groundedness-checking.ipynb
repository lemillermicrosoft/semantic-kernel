{
 "cells": [
  {
   "cell_type": "markdown",
   "id": "f5c76c5f",
   "metadata": {},
   "source": [
    "# Groundedness Checking Skills\n",
    "\n",
    "In this notebook we run a simple grounding pipeline, to see if a summary text has any ungrounded additions as compared to the original.\n",
    "\n",
    "Let us first define our grounding text:"
   ]
  },
  {
   "cell_type": "code",
   "execution_count": null,
   "id": "23b26e2f",
   "metadata": {},
   "outputs": [],
   "source": [
    "grounding_text = \"\"\"I am by birth a Genevese, and my family is one of the most distinguished of that republic.\n",
    "My ancestors had been for many years counsellors and syndics, and my father had filled several public situations\n",
    "with honour and reputation. He was respected by all who knew him for his integrity and indefatigable attention\n",
    "to public business. He passed his younger days perpetually occupied by the affairs of his country; a variety\n",
    "of circumstances had prevented his marrying early, nor was it until the decline of life that he became a husband\n",
    "and the father of a family.\n",
    "\n",
    "As the circumstances of his marriage illustrate his character, I cannot refrain from relating them. One of his\n",
    "most intimate friends was a merchant who, from a flourishing state, fell, through numerous mischances, into poverty.\n",
    "This man, whose name was Beaufort, was of a proud and unbending disposition and could not bear to live in poverty\n",
    "and oblivion in the same country where he had formerly been distinguished for his rank and magnificence. Having\n",
    "paid his debts, therefore, in the most honourable manner, he retreated with his daughter to the town of Lucerne,\n",
    "where he lived unknown and in wretchedness. My father loved Beaufort with the truest friendship and was deeply\n",
    "grieved by his retreat in these unfortunate circumstances. He bitterly deplored the false pride which led his friend\n",
    "to a conduct so little worthy of the affection that united them. He lost no time in endeavouring to seek him out,\n",
    "with the hope of persuading him to begin the world again through his credit and assistance.\n",
    "\n",
    "Beaufort had taken effectual measures to conceal himself, and it was ten months before my father discovered his\n",
    "abode. Overjoyed at this discovery, he hastened to the house, which was situated in a mean street near the Reuss.\n",
    "But when he entered, misery and despair alone welcomed him. Beaufort had saved but a very small sum of money from\n",
    "the wreck of his fortunes, but it was sufficient to provide him with sustenance for some months, and in the meantime\n",
    "he hoped to procure some respectable employment in a merchant's house. The interval was, consequently, spent in\n",
    "inaction; his grief only became more deep and rankling when he had leisure for reflection, and at length it took\n",
    "so fast hold of his mind that at the end of three months he lay on a bed of sickness, incapable of any exertion.\n",
    "\n",
    "His daughter attended him with the greatest tenderness, but she saw with despair that their little fund was\n",
    "rapidly decreasing and that there was no other prospect of support. But Caroline Beaufort possessed a mind of an\n",
    "uncommon mould, and her courage rose to support her in her adversity. She procured plain work; she plaited straw\n",
    "and by various means contrived to earn a pittance scarcely sufficient to support life.\n",
    "\n",
    "Several months passed in this manner. Her father grew worse; her time was more entirely occupied in attending him;\n",
    "her means of subsistence decreased; and in the tenth month her father died in her arms, leaving her an orphan and\n",
    "a beggar. This last blow overcame her, and she knelt by Beaufort's coffin weeping bitterly, when my father entered\n",
    "the chamber. He came like a protecting spirit to the poor girl, who committed herself to his care; and after the\n",
    "interment of his friend he conducted her to Geneva and placed her under the protection of a relation. Two years\n",
    "after this event Caroline became his wife.\"\"\""
   ]
  },
  {
   "cell_type": "markdown",
   "id": "73f4abc1",
   "metadata": {},
   "source": [
    "## Set up Semantic Kernel\n",
    "\n",
    "We prepare our kernel in the usual way:"
   ]
  },
  {
   "cell_type": "code",
   "execution_count": null,
   "id": "e13d3519",
   "metadata": {},
   "outputs": [],
   "source": [
    "import semantic_kernel as sk\n",
    "from semantic_kernel.connectors.ai.open_ai import AzureTextCompletion, OpenAITextCompletion\n",
    "\n",
    "kernel = sk.Kernel()\n",
    "\n",
    "useAzureOpenAI = True\n",
    "\n",
    "# Configure AI service used by the kernel\n",
    "if useAzureOpenAI:\n",
    "    deployment, api_key, endpoint = sk.azure_openai_settings_from_dot_env()\n",
    "    kernel.add_text_completion_service(\"dv\", AzureTextCompletion(deployment, endpoint, api_key))\n",
    "else:\n",
    "    api_key, org_id = sk.openai_settings_from_dot_env()\n",
    "    kernel.add_text_completion_service(\"dv\", OpenAITextCompletion(\"text-davinci-003\", api_key, org_id))"
   ]
  },
  {
   "cell_type": "markdown",
   "id": "0c65f786",
   "metadata": {},
   "source": [
    "## Import the Skills\n",
    "\n",
    "We are going to be using two Skills: the `SummarizeSkill` to produce a summary of the above text, and then the grounding skill, to check its quality, and remove ungrounded additions:"
   ]
  },
  {
   "cell_type": "code",
   "execution_count": null,
   "id": "56ed7688",
   "metadata": {},
   "outputs": [],
   "source": [
    "from semantic_kernel.core_skills.text_skill import TextSkill\n",
    "\n",
    "# note: using skills from the samples folder\n",
    "skills_directory = \"../../skills\"\n",
    "\n",
    "groundingSemanticFunctions = kernel.import_semantic_skill_from_directory(skills_directory, \"GroundingSkill\")\n",
    "summarize_skill = kernel.import_semantic_skill_from_directory(skills_directory, \"SummarizeSkill\")"
   ]
  },
  {
   "cell_type": "markdown",
   "id": "0d087993",
   "metadata": {},
   "source": [
    "We can also extract the individual semantic functions for our use:"
   ]
  },
  {
   "cell_type": "code",
   "execution_count": null,
   "id": "738eb0ec",
   "metadata": {},
   "outputs": [],
   "source": [
    "create_summary = summarize_skill[\"Summarize\"]\n",
    "entity_extraction = groundingSemanticFunctions[\"ExtractEntities\"]\n",
    "reference_check = groundingSemanticFunctions[\"ReferenceCheckEntities\"]\n",
    "entity_excision = groundingSemanticFunctions[\"ExciseEntities\"]"
   ]
  },
  {
   "cell_type": "markdown",
   "id": "e5bda16e",
   "metadata": {},
   "source": [
    "## Calling Individual Semantic Functions\n",
    "\n",
    "We will start by calling the individual grounding functions in turn, to show their use. For this we need to create a same summary text:"
   ]
  },
  {
   "cell_type": "code",
   "execution_count": null,
   "id": "c9a872f6",
   "metadata": {},
   "outputs": [],
   "source": [
    "summary_text = \"\"\"\n",
    "My father, a respected resident of Milan, was a close friend of a merchant named Beaufort who, after a series of\n",
    "misfortunes, moved to Zurich in poverty. My father was upset by his friend's troubles and sought him out,\n",
    "finding him in a mean street. Beaufort had saved a small sum of money, but it was not enough to support him and\n",
    "his daughter, Mary. Mary procured work to eek out a living, but after ten months her father died, leaving\n",
    "her a beggar. My father came to her aid and two years later they married.\n",
    "\"\"\"\n",
    "\n",
    "summary_text = summary_text.replace(\"\\n\", \" \").replace(\"  \", \" \")\n",
    "print(summary_text)"
   ]
  },
  {
   "cell_type": "markdown",
   "id": "2a41eccb",
   "metadata": {},
   "source": [
    "Some things to note:\n",
    "\n",
    "- The implied residence of Geneva has been changed to Milan\n",
    "- Lucerne has been changed to Zurich\n",
    "- Caroline has been renamed as Mary\n",
    "\n",
    "\n",
    "The grounding skill has three stages:\n",
    "\n",
    "1. Extract entities from a summary text\n",
    "2. Perform a reference check against the grounding text\n",
    "3. Excise any entities which failed the reference check from the summary\n",
    "\n",
    "Now, let us start calling individual semantic functions."
   ]
  },
  {
   "cell_type": "markdown",
   "id": "4e435b18",
   "metadata": {},
   "source": [
    "### Preparing the Context\n",
    "\n",
    "Semantic functions operate in a context, which provides extra parameters for their operation. For the grounding skill, the context is expected to supply the topic for the reference checking, and some particular examples of them:"
   ]
  },
  {
   "cell_type": "code",
   "execution_count": null,
   "id": "60aa6fa0",
   "metadata": {},
   "outputs": [],
   "source": [
    "context = kernel.create_new_context()\n",
    "context[\"topic\"] = \"people and places\"\n",
    "context[\"example_entities\"] = \"John, Jane, mother, brother, Paris, Rome\""
   ]
  },
  {
   "cell_type": "markdown",
   "id": "071c05e4",
   "metadata": {},
   "source": [
    "### Extracting the Entities\n",
    "\n",
    "The first function we need is entity extraction. We are going to take our summary text, and get a list of entities found within it. For this we use `entity_extraction()`:"
   ]
  },
  {
   "cell_type": "code",
   "execution_count": null,
   "id": "c1d4b7ff",
   "metadata": {},
   "outputs": [],
   "source": [
    "extraction_result = entity_extraction(summary_text, context=context)\n",
    "\n",
    "print(extraction_result)"
   ]
  },
  {
   "cell_type": "markdown",
   "id": "b93c661f",
   "metadata": {},
   "source": [
    "We see that the output consists of two parts: the list of entities, and a repeat of the summary."
   ]
  },
  {
   "cell_type": "markdown",
   "id": "958ad1ff",
   "metadata": {},
   "source": [
    "### Performing the reference check\n",
    "\n",
    "We now use the grounding text to see if the entities we found are grounded. We start by adding the grounding text to our context:"
   ]
  },
  {
   "cell_type": "code",
   "execution_count": null,
   "id": "16cef37a",
   "metadata": {},
   "outputs": [],
   "source": [
    "context[\"reference_context\"] = grounding_text"
   ]
  },
  {
   "cell_type": "markdown",
   "id": "894e38d7",
   "metadata": {},
   "source": [
    "With this in place, we can run the reference checking function:"
   ]
  },
  {
   "cell_type": "code",
   "execution_count": null,
   "id": "d240d669",
   "metadata": {},
   "outputs": [],
   "source": [
    "grounding_result = reference_check(extraction_result.result, context=context)\n",
    "\n",
    "print(grounding_result.result)"
   ]
  },
  {
   "cell_type": "markdown",
   "id": "9a83c66f",
   "metadata": {},
   "source": [
    "So we now have a list of ungrounded entities (of course, this list may not be well grounded itself), and a repeat of the summary text. The observant reader may be wondering why this is being dragged along; all will soon be revealed."
   ]
  },
  {
   "cell_type": "markdown",
   "id": "35c1c329",
   "metadata": {},
   "source": [
    "### Excising the ungrounded entities\n",
    "\n",
    "Finally we can remove the ungrounded entities from the text. For this, we don't need to change the context again - the output of the reference check contains all that we need:"
   ]
  },
  {
   "cell_type": "code",
   "execution_count": null,
   "id": "db82d97d",
   "metadata": {},
   "outputs": [],
   "source": [
    "excision_result = entity_excision(grounding_result.result)\n",
    "\n",
    "print(excision_result.result)"
   ]
  },
  {
   "cell_type": "markdown",
   "id": "1c2f0c8f",
   "metadata": {},
   "source": [
    "## Using a Planner\n",
    "\n",
    "Calling individual semantic kernel functions in the manner described above has been extensively focus-group tested, and declared to be 'statistically not fun.' Fortunately, _Planners_ are provided which can take a set of functions, and figure out a way to combine them to perform a task.\n",
    "\n",
    "So in our case, suppose that we want to take the above original text, produce a summary and then check it for groundedness. We might write an instruction such as:"
   ]
  },
  {
   "cell_type": "code",
   "execution_count": null,
   "id": "5bbdd2b5",
   "metadata": {},
   "outputs": [],
   "source": [
    "target_topic = \"people and places\"\n",
    "samples = \"John, Jane, mother, brother, Paris, Rome\"\n",
    "\n",
    "ask = f\"\"\"Make a summary of the following [ORIGINAL_TEXT]. Then make a list of entities\n",
    "related to {target_topic} (such as {samples}) which are present in the summary.\n",
    "Take this list of entities, and from it make another list of those which are not\n",
    "grounded in the [ORIGINAL_TEXT]. Finally, rewrite your summary to remove the entites\n",
    "which are not grounded in the original.\n",
    "\n",
    "This is the original text:\n",
    "\n",
    "[ORIGINAL_TEXT]\n",
    "{grounding_text}\n",
    "[/ORIGINAL_TEXT]\n",
    "\"\"\"\n",
    "\n",
    "print(ask)"
   ]
  },
  {
   "cell_type": "markdown",
   "id": "0aeca6fd",
   "metadata": {},
   "source": [
    "Next, we set up a planner prompt, which can guide the planner towards the result we desire:"
   ]
  },
  {
   "cell_type": "code",
   "execution_count": null,
   "id": "faff264f",
   "metadata": {},
   "outputs": [],
   "source": [
    "PROMPT = \"\"\"\n",
    "# Task\n",
    "\n",
    "1. You are a planner for the Semantic Kernel.\n",
    "2. Your job is to create a properly formatted JSON plan step by step, to satisfy the goal given.\n",
    "3. Create a list of subtasks based off the [GOAL] provided.\n",
    "4. Each subtask must be from within the [AVAILABLE_FUNCTIONS] list. Do not use any functions that are not in the list.\n",
    "5. Base your decisions on which functions to use from the description and the name of the function.\n",
    "6. Sometimes, a function may take arguments. Provide them if necessary.\n",
    "7. The plan should be as short as possible.\n",
    "8. The plan does not have to use all of the [AVAILABLE_FUNCTIONS]\n",
    "9. Ensure that the plan you project is valid JSON. Remove new line characters if necessary\n",
    "\n",
    "Here are some examples:\n",
    "\n",
    "## Example 1\n",
    "\n",
    "[AVAILABLE_FUNCTIONS]\n",
    "EmailConnector.LookupContactEmail\n",
    "description: looks up the a contact and retrieves their email address\n",
    "args:\n",
    "- name: the name to look up\n",
    "\n",
    "WriterSkill.EmailTo\n",
    "description: email the input text to a recipient\n",
    "args:\n",
    "- input: the text to email\n",
    "- recipient: the recipient's email address. Multiple addresses may be included if separated by ';'.\n",
    "\n",
    "WriterSkill.Translate\n",
    "description: translate the input to another language\n",
    "args:\n",
    "- input: the text to translate\n",
    "- language: the language to translate to\n",
    "\n",
    "WriterSkill.Summarize\n",
    "description: summarize input text\n",
    "args:\n",
    "- input: the text to summarize\n",
    "\n",
    "FunSkill.Joke\n",
    "description: Generate a funny joke\n",
    "args:\n",
    "- input: the input to generate a joke about\n",
    "[/AVAILABLE_FUNCTIONS]\n",
    "\n",
    "[GOAL]\n",
    "Tell a joke about cars. Translate it to Spanish\n",
    "[/GOAL]\n",
    "\n",
    "[OUTPUT]\n",
    "    {\n",
    "        \"input\": \"cars\",\n",
    "        \"subtasks\": [\n",
    "            {\"function\": \"FunSkill.Joke\"},\n",
    "            {\"function\": \"WriterSkill.Translate\", \"args\": {\"language\": \"Spanish\"}}\n",
    "        ]\n",
    "    }\n",
    "\n",
    "## Example 2\n",
    "\n",
    "[AVAILABLE_FUNCTIONS]\n",
    "WriterSkill.Brainstorm\n",
    "description: Brainstorm ideas\n",
    "args:\n",
    "- input: the input to brainstorm about\n",
    "\n",
    "WriterSkill.FollowStyle\n",
    "description: Rewrite a text in a given style\n",
    "args:\n",
    "- input: the original text\n",
    "- text_sample: A sample of text whose style should be used to rewrite the input\n",
    "\n",
    "WriterSkill.EmailTo\n",
    "description: Write an email to a recipient\n",
    "args:\n",
    "- input: the input to write about\n",
    "- recipient: the recipient's email address.\n",
    "\n",
    "WriterSkill.Translate\n",
    "description: translate the input to another language\n",
    "args:\n",
    "- input: the text to translate\n",
    "- language: the language to translate to\n",
    "[/AVAILABLE_FUNCTIONS]\n",
    "\n",
    "[GOAL]\n",
    "Tomorrow is Valentine's day. I need to come up with a few date ideas.\n",
    "She likes Edgar Allen Poe so write using his style.\n",
    "E-mail these ideas to my significant other. Translate it to French.\n",
    "\n",
    "The following is a sample text by Edgar Allen Poe:\n",
    "\n",
    "[SAMPLE_TEXT]\n",
    "Take thy beak from out my heart, and take thy form from off my door!\n",
    "Quoth the Raven, 'Nevermore.'\n",
    "[/SAMPLE_TEXT]\n",
    "[/GOAL]\n",
    "\n",
    "[OUTPUT]\n",
    "    {\n",
    "        \"input\": \"Valentine's Day Date Ideas\",\n",
    "        \"subtasks\": [\n",
    "            {\"function\": \"WriterSkill.Brainstorm\"},\n",
    "            {\"function\": \"WriterSkill.FollowStyle\", \"args\" : { \"text_sample\": \"Take thy beak from out my heart, and take thy form from off my door!\\nQuoth the Raven, 'Nevermore.'\"}},\n",
    "            {\"function\": \"WriterSkill.EmailTo\", \"args\": {\"recipient\": \"significant_other\"}},\n",
    "            {\"function\": \"WriterSkill.Translate\", \"args\": {\"language\": \"French\"}}\n",
    "        ]\n",
    "    }\n",
    "    \n",
    "## Example 3\n",
    "    \n",
    "[AVAILABLE_FUNCTIONS]\n",
    "TextSkill.Append\n",
    "description: append one text after another\n",
    "args:\n",
    "- input: the first text\n",
    "- second_text: the text to place after the first\n",
    "\n",
    "WriterSkill.Translate\n",
    "description: translate the input to another language\n",
    "args:\n",
    "- input: the text to translate\n",
    "- language: the language to translate to\n",
    "[/AVAILABLE_FUNCTIONS]\n",
    "\n",
    "[GOAL]\n",
    "I have two texts from the same original piece. The\n",
    "first needs to be translated into English, and then concatenated\n",
    "with the second.\n",
    "\n",
    "This is the first text:\n",
    "[TEXT_A]\n",
    "GALLIA est omnis divisa in partes tres, quarum unam incolunt Belgae,\n",
    "aliam Aquitani, tertiam qui ipsorum lingua Celtae, nostra Galli appellantur\n",
    "[/TEXT_A]\n",
    "\n",
    "This is the second text:\n",
    "[TEXT_B]\n",
    "All these differ from each other in language, customs and laws\n",
    "[/TEXT_B]\n",
    "[/GOAL]\n",
    "\n",
    "[OUTPUT]\n",
    "    {\n",
    "        \"input\": \"GALLIA est omnis divisa in partes tres, quarum unam incolunt Belgae,\\naliam Aquitani, tertiam qui ipsorum lingua Celtae, nostra Galli appellantur\",\n",
    "        \"subtasks\": [\n",
    "            {\"function\": \"WriterSkill.Translate\", \"args\": { \"language\": \"english\" }},\n",
    "            {\"function\": \"TextSkill.Append\", \"args\" : { \"second_text\": \"All these differ from each other in language, customs and laws\"}}\n",
    "        ]\n",
    "    }\n",
    "\n",
    "# Task\n",
    "\n",
    "Produce an execution plan for the following goal, based on these functions:\n",
    "\n",
    "[AVAILABLE_FUNCTIONS]\n",
    "{{$available_functions}}\n",
    "[/AVAILABLE_FUNCTIONS]\n",
    "\n",
    "[GOAL]\n",
    "{{$goal}}\n",
    "[/GOAL]\n",
    "\n",
    "[OUTPUT]\n",
    "\"\"\""
   ]
  },
  {
   "cell_type": "markdown",
   "id": "61bba012",
   "metadata": {},
   "source": [
    "Now to do the planning. For this, Semantic Kernel provides a `BasicPlanner` object:"
   ]
  },
  {
   "cell_type": "code",
   "execution_count": null,
   "id": "afc5043e",
   "metadata": {},
   "outputs": [],
   "source": [
    "from semantic_kernel.planning.basic_planner import BasicPlanner\n",
    "planner = BasicPlanner()"
   ]
  },
  {
   "cell_type": "markdown",
   "id": "c3f6c5f4",
   "metadata": {},
   "source": [
    "To avoid the possibility of cross contamination, we create a fresh kernel:"
   ]
  },
  {
   "cell_type": "code",
   "execution_count": null,
   "id": "f82c8ce0",
   "metadata": {},
   "outputs": [],
   "source": [
    "kernel_2 = sk.Kernel()\n",
    "\n",
    "# Configure AI service used by the kernel\n",
    "if useAzureOpenAI:\n",
    "    deployment, api_key, endpoint = sk.azure_openai_settings_from_dot_env()\n",
    "    kernel_2.add_text_completion_service(\"dv\", AzureTextCompletion(deployment, endpoint, api_key))\n",
    "else:\n",
    "    api_key, org_id = sk.openai_settings_from_dot_env()\n",
    "    kernel_2.add_text_completion_service(\"dv\", OpenAITextCompletion(\"text-davinci-003\", api_key, org_id))\n",
    "    \n",
    "groundingSemanticFunctions = kernel_2.import_semantic_skill_from_directory(skills_directory, \"GroundingSkill\")\n",
    "summarize_skill = kernel_2.import_semantic_skill_from_directory(skills_directory, \"SummarizeSkill\")"
   ]
  },
  {
   "cell_type": "markdown",
   "id": "50b65ec6",
   "metadata": {},
   "source": [
    "And with all that in place, we can generate the plan:"
   ]
  },
  {
   "cell_type": "code",
   "execution_count": null,
   "id": "ba26e954",
   "metadata": {},
   "outputs": [],
   "source": [
    "my_plan = await planner.create_plan_async(ask, kernel_2, prompt=PROMPT)\n",
    "\n",
    "print(my_plan.generated_plan)"
   ]
  },
  {
   "cell_type": "markdown",
   "id": "40ebedbe",
   "metadata": {},
   "source": [
    "With that in place, we can try executing the plan to get our grounded summary:"
   ]
  },
  {
   "cell_type": "code",
   "execution_count": null,
   "id": "23c45642",
   "metadata": {},
   "outputs": [],
   "source": [
    "results = await planner.execute_plan_async(my_plan, kernel_2, debug_print=True)"
   ]
  },
  {
   "cell_type": "markdown",
   "id": "08b7f122",
   "metadata": {},
   "source": [
    "And the result:"
   ]
  },
  {
   "cell_type": "code",
   "execution_count": null,
   "id": "8aad0681",
   "metadata": {},
   "outputs": [],
   "source": [
    "print(results)"
   ]
  },
  {
   "cell_type": "code",
   "execution_count": null,
   "id": "094cd2ea",
   "metadata": {},
   "outputs": [],
   "source": []
  }
 ],
 "metadata": {
  "kernelspec": {
   "display_name": "Python 3 (ipykernel)",
   "language": "python",
   "name": "python3"
  },
  "language_info": {
   "codemirror_mode": {
    "name": "ipython",
    "version": 3
   },
   "file_extension": ".py",
   "mimetype": "text/x-python",
   "name": "python",
   "nbconvert_exporter": "python",
   "pygments_lexer": "ipython3",
   "version": "3.11.3"
  }
 },
 "nbformat": 4,
 "nbformat_minor": 5
}
