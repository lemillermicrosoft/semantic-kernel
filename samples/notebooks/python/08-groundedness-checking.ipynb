{
 "cells": [
  {
   "cell_type": "markdown",
   "id": "4ca091f5",
   "metadata": {},
   "source": [
    "# Groundedness Checking Skills\n",
    "\n",
    "In this notebook we run a simple grounding pipeline, to see if a summary text has any ungrounded additions as compared to \n",
    "\n",
    "Let us first define our grounding text:"
   ]
  },
  {
   "cell_type": "code",
   "execution_count": null,
   "id": "23b26e2f",
   "metadata": {},
   "outputs": [],
   "source": [
    "grounding_text = \"\"\"I am by birth a Genevese, and my family is one of the most distinguished of that republic.\n",
    "My ancestors had been for many years counsellors and syndics, and my father had filled several public situations\n",
    "with honour and reputation. He was respected by all who knew him for his integrity and indefatigable attention\n",
    "to public business. He passed his younger days perpetually occupied by the affairs of his country; a variety\n",
    "of circumstances had prevented his marrying early, nor was it until the decline of life that he became a husband\n",
    "and the father of a family.\n",
    "\n",
    "As the circumstances of his marriage illustrate his character, I cannot refrain from relating them. One of his\n",
    "most intimate friends was a merchant who, from a flourishing state, fell, through numerous mischances, into poverty.\n",
    "This man, whose name was Beaufort, was of a proud and unbending disposition and could not bear to live in poverty\n",
    "and oblivion in the same country where he had formerly been distinguished for his rank and magnificence. Having\n",
    "paid his debts, therefore, in the most honourable manner, he retreated with his daughter to the town of Lucerne,\n",
    "where he lived unknown and in wretchedness. My father loved Beaufort with the truest friendship and was deeply\n",
    "grieved by his retreat in these unfortunate circumstances. He bitterly deplored the false pride which led his friend\n",
    "to a conduct so little worthy of the affection that united them. He lost no time in endeavouring to seek him out,\n",
    "with the hope of persuading him to begin the world again through his credit and assistance.\n",
    "\n",
    "Beaufort had taken effectual measures to conceal himself, and it was ten months before my father discovered his\n",
    "abode. Overjoyed at this discovery, he hastened to the house, which was situated in a mean street near the Reuss.\n",
    "But when he entered, misery and despair alone welcomed him. Beaufort had saved but a very small sum of money from\n",
    "the wreck of his fortunes, but it was sufficient to provide him with sustenance for some months, and in the meantime\n",
    "he hoped to procure some respectable employment in a merchant's house. The interval was, consequently, spent in\n",
    "inaction; his grief only became more deep and rankling when he had leisure for reflection, and at length it took\n",
    "so fast hold of his mind that at the end of three months he lay on a bed of sickness, incapable of any exertion.\n",
    "\n",
    "His daughter attended him with the greatest tenderness, but she saw with despair that their little fund was\n",
    "rapidly decreasing and that there was no other prospect of support. But Caroline Beaufort possessed a mind of an\n",
    "uncommon mould, and her courage rose to support her in her adversity. She procured plain work; she plaited straw\n",
    "and by various means contrived to earn a pittance scarcely sufficient to support life.\n",
    "\n",
    "Several months passed in this manner. Her father grew worse; her time was more entirely occupied in attending him;\n",
    "her means of subsistence decreased; and in the tenth month her father died in her arms, leaving her an orphan and\n",
    "a beggar. This last blow overcame her, and she knelt by Beaufort's coffin weeping bitterly, when my father entered\n",
    "the chamber. He came like a protecting spirit to the poor girl, who committed herself to his care; and after the\n",
    "interment of his friend he conducted her to Geneva and placed her under the protection of a relation. Two years\n",
    "after this event Caroline became his wife.\n",
    "\"\"\""
   ]
  },
  {
   "cell_type": "markdown",
   "id": "f54cb754",
   "metadata": {},
   "source": [
    "And the summary we're going to examine:"
   ]
  },
  {
   "cell_type": "code",
   "execution_count": null,
   "id": "6a1ccbfc",
   "metadata": {},
   "outputs": [],
   "source": [
    "summary_text = \"\"\"The narrator's father was a respected public figure in Geneva. He was friends with a wealthy\n",
    "merchant named Beaufort, who fell into poverty and retreated to Lucerne with his daughter. The narrator's father\n",
    "searched for ten months before finding Beaufort, who was sick and unable to work. Beaufort died after several\n",
    "months, leaving his daughter an orphan and a beggar. The narrator's father took her under his care and eventually\n",
    "married her two years later.\n",
    "\"\"\""
   ]
  },
  {
   "cell_type": "markdown",
   "id": "0aba3b35",
   "metadata": {},
   "source": [
    "## Set up Semantic Kernel\n",
    "\n",
    "We prepare our kernel in the usual way:"
   ]
  },
  {
   "cell_type": "code",
   "execution_count": null,
   "id": "e13d3519",
   "metadata": {},
   "outputs": [],
   "source": [
    "import semantic_kernel as sk\n",
    "from semantic_kernel.connectors.ai.open_ai import AzureTextCompletion, OpenAITextCompletion\n",
    "\n",
    "kernel = sk.Kernel()\n",
    "\n",
    "useAzureOpenAI = True\n",
    "\n",
    "# Configure AI service used by the kernel\n",
    "if useAzureOpenAI:\n",
    "    deployment, api_key, endpoint = sk.azure_openai_settings_from_dot_env()\n",
    "    kernel.add_text_completion_service(\"dv\", AzureTextCompletion(deployment, endpoint, api_key))\n",
    "else:\n",
    "    api_key, org_id = sk.openai_settings_from_dot_env()\n",
    "    kernel.add_text_completion_service(\"dv\", OpenAITextCompletion(\"text-davinci-003\", api_key, org_id))"
   ]
  },
  {
   "cell_type": "markdown",
   "id": "783e7ab1",
   "metadata": {},
   "source": [
    "## Import the Skill\n",
    "\n",
    "We have to import the semantic and native skills in separate calls:"
   ]
  },
  {
   "cell_type": "code",
   "execution_count": null,
   "id": "254a2a3c",
   "metadata": {},
   "outputs": [],
   "source": [
    "# note: using skills from the samples folder\n",
    "skills_directory = \"../../skills\"\n",
    "\n",
    "groundingSemanticFunctions = kernel.import_semantic_skill_from_directory(skills_directory, \"GroundingSkill\")\n",
    "groundingNativeFunctions = kernel.import_native_skill_from_directory(skills_directory, \"GroundingSkill\")"
   ]
  },
  {
   "cell_type": "code",
   "execution_count": null,
   "id": "738eb0ec",
   "metadata": {},
   "outputs": [],
   "source": [
    "entity_extraction = groundingSemanticFunctions[\"EntityExtraction\"]\n",
    "reference_check = groundingSemanticFunctions[\"ReferenceCheck\"]\n",
    "jsonblock_fetch = groundingNativeFunctions[\"ExtractJsonBlock\"]"
   ]
  },
  {
   "cell_type": "markdown",
   "id": "e3cbcda7",
   "metadata": {},
   "source": [
    "## Preparing the context\n",
    "\n",
    "We now create the context in which will will operate. In the beginning, this just specifies the kind of entities we want to check for grounding:"
   ]
  },
  {
   "cell_type": "code",
   "execution_count": null,
   "id": "66dc26e4",
   "metadata": {},
   "outputs": [],
   "source": [
    "context = kernel.create_new_context()\n",
    "context[\"topic\"] = \"people and places\""
   ]
  },
  {
   "cell_type": "markdown",
   "id": "4eb4d311",
   "metadata": {},
   "source": [
    "## Extracting the entities\n",
    "\n",
    "We're now ready to get the entities from the summary text:"
   ]
  },
  {
   "cell_type": "code",
   "execution_count": null,
   "id": "cc482d90",
   "metadata": {},
   "outputs": [],
   "source": [
    "extraction_result = entity_extraction(summary_text, context=context)"
   ]
  },
  {
   "cell_type": "markdown",
   "id": "74a58be3",
   "metadata": {},
   "source": [
    "Examine the raw result"
   ]
  },
  {
   "cell_type": "code",
   "execution_count": null,
   "id": "4ed73fb7",
   "metadata": {},
   "outputs": [],
   "source": [
    "print(extraction_result.result)"
   ]
  },
  {
   "cell_type": "markdown",
   "id": "2e270060",
   "metadata": {},
   "source": [
    "Now, let's go after the actual JSON output. We start with a function to perform the same task as `jsonblock_fetch()`:"
   ]
  },
  {
   "cell_type": "code",
   "execution_count": null,
   "id": "2f1e4334",
   "metadata": {},
   "outputs": [],
   "source": [
    "import json\n",
    "\n",
    "def extract_json_block_from_text(text: str):\n",
    "        start_tag = \"<json_block>\"\n",
    "        end_tag = \"</json_block>\"\n",
    "        i_0 = text.find(start_tag) + len(start_tag)\n",
    "        i_1 = text.find(end_tag)\n",
    "\n",
    "        extracted_text = text[i_0:i_1]\n",
    "\n",
    "        return extracted_text"
   ]
  },
  {
   "cell_type": "code",
   "execution_count": null,
   "id": "3949b76b",
   "metadata": {},
   "outputs": [],
   "source": [
    "json_block_string = extract_json_block_from_text(extraction_result.result)"
   ]
  },
  {
   "cell_type": "markdown",
   "id": "f957a5d9",
   "metadata": {},
   "source": [
    "With the contents of the `<json_block>` tag extracted, we can parse the JSON:"
   ]
  },
  {
   "cell_type": "code",
   "execution_count": null,
   "id": "25bb38ac",
   "metadata": {},
   "outputs": [],
   "source": [
    "extracted_entities = json.loads(json_block_string)"
   ]
  },
  {
   "cell_type": "markdown",
   "id": "e0415687",
   "metadata": {},
   "source": [
    "And pretty-print the extracted entities:"
   ]
  },
  {
   "cell_type": "code",
   "execution_count": null,
   "id": "c0bbd478",
   "metadata": {},
   "outputs": [],
   "source": [
    "entity_str = \"\".join([f\"- {item['entity_name']}\\n\" for item in extracted_entities ])"
   ]
  },
  {
   "cell_type": "code",
   "execution_count": null,
   "id": "1a9f81ea",
   "metadata": {},
   "outputs": [],
   "source": [
    "print(entity_str)"
   ]
  },
  {
   "cell_type": "markdown",
   "id": "59617804",
   "metadata": {},
   "source": [
    "## Reference cross check\n",
    "\n",
    "We now wnat to see if these entities appear in our grounding text. First, we place the grounding text into the general milieu of our kernel, so it can form background information:"
   ]
  },
  {
   "cell_type": "code",
   "execution_count": null,
   "id": "072e59d3",
   "metadata": {},
   "outputs": [],
   "source": [
    "context[\"reference_context\"] = grounding_text"
   ]
  },
  {
   "cell_type": "markdown",
   "id": "477044c6",
   "metadata": {},
   "source": [
    "With our grounding information in place, we can run the reference checking function (you didn't think that the pretty printing of the list of extracted entities was for _your_ benefit, did you?):"
   ]
  },
  {
   "cell_type": "code",
   "execution_count": null,
   "id": "3fd3f5c3",
   "metadata": {},
   "outputs": [],
   "source": [
    "grounding_result = reference_check(entity_str, context=context)"
   ]
  },
  {
   "cell_type": "markdown",
   "id": "6c262e65",
   "metadata": {},
   "source": [
    "Extract the JSON again:"
   ]
  },
  {
   "cell_type": "code",
   "execution_count": null,
   "id": "974dd8c0",
   "metadata": {},
   "outputs": [],
   "source": [
    "grounding_json_block = extract_json_block_from_text(grounding_result.result)\n",
    "grounding_assessment = json.loads(grounding_json_block)"
   ]
  },
  {
   "cell_type": "markdown",
   "id": "94a55bed",
   "metadata": {},
   "source": [
    "And look at the grounded/ungrounded assessment for each of the entities we got from the summary:"
   ]
  },
  {
   "cell_type": "code",
   "execution_count": null,
   "id": "ef5eec2b",
   "metadata": {},
   "outputs": [],
   "source": [
    "print(json.dumps(grounding_assessment, indent=2))"
   ]
  },
  {
   "cell_type": "code",
   "execution_count": null,
   "id": "a13eb07e",
   "metadata": {},
   "outputs": [],
   "source": []
  }
 ],
 "metadata": {
  "kernelspec": {
   "display_name": "Python 3 (ipykernel)",
   "language": "python",
   "name": "python3"
  },
  "language_info": {
   "codemirror_mode": {
    "name": "ipython",
    "version": 3
   },
   "file_extension": ".py",
   "mimetype": "text/x-python",
   "name": "python",
   "nbconvert_exporter": "python",
   "pygments_lexer": "ipython3",
   "version": "3.11.3"
  }
 },
 "nbformat": 4,
 "nbformat_minor": 5
}
