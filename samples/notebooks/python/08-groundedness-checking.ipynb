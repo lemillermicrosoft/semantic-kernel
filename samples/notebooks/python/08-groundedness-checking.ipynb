{
 "cells": [
  {
   "cell_type": "markdown",
   "id": "f5c76c5f",
   "metadata": {},
   "source": [
    "# Groundedness Checking Skills\n",
    "\n",
    "In this notebook we run a simple grounding pipeline, to see if a summary text has any ungrounded additions as compared to \n",
    "\n",
    "Let us first define our grounding text:"
   ]
  },
  {
   "cell_type": "code",
   "execution_count": 1,
   "id": "23b26e2f",
   "metadata": {},
   "outputs": [],
   "source": [
    "grounding_text = \"\"\"I am by birth a Genevese, and my family is one of the most distinguished of that republic.\n",
    "My ancestors had been for many years counsellors and syndics, and my father had filled several public situations\n",
    "with honour and reputation. He was respected by all who knew him for his integrity and indefatigable attention\n",
    "to public business. He passed his younger days perpetually occupied by the affairs of his country; a variety\n",
    "of circumstances had prevented his marrying early, nor was it until the decline of life that he became a husband\n",
    "and the father of a family.\n",
    "\n",
    "As the circumstances of his marriage illustrate his character, I cannot refrain from relating them. One of his\n",
    "most intimate friends was a merchant who, from a flourishing state, fell, through numerous mischances, into poverty.\n",
    "This man, whose name was Beaufort, was of a proud and unbending disposition and could not bear to live in poverty\n",
    "and oblivion in the same country where he had formerly been distinguished for his rank and magnificence. Having\n",
    "paid his debts, therefore, in the most honourable manner, he retreated with his daughter to the town of Lucerne,\n",
    "where he lived unknown and in wretchedness. My father loved Beaufort with the truest friendship and was deeply\n",
    "grieved by his retreat in these unfortunate circumstances. He bitterly deplored the false pride which led his friend\n",
    "to a conduct so little worthy of the affection that united them. He lost no time in endeavouring to seek him out,\n",
    "with the hope of persuading him to begin the world again through his credit and assistance.\n",
    "\n",
    "Beaufort had taken effectual measures to conceal himself, and it was ten months before my father discovered his\n",
    "abode. Overjoyed at this discovery, he hastened to the house, which was situated in a mean street near the Reuss.\n",
    "But when he entered, misery and despair alone welcomed him. Beaufort had saved but a very small sum of money from\n",
    "the wreck of his fortunes, but it was sufficient to provide him with sustenance for some months, and in the meantime\n",
    "he hoped to procure some respectable employment in a merchant's house. The interval was, consequently, spent in\n",
    "inaction; his grief only became more deep and rankling when he had leisure for reflection, and at length it took\n",
    "so fast hold of his mind that at the end of three months he lay on a bed of sickness, incapable of any exertion.\n",
    "\n",
    "His daughter attended him with the greatest tenderness, but she saw with despair that their little fund was\n",
    "rapidly decreasing and that there was no other prospect of support. But Caroline Beaufort possessed a mind of an\n",
    "uncommon mould, and her courage rose to support her in her adversity. She procured plain work; she plaited straw\n",
    "and by various means contrived to earn a pittance scarcely sufficient to support life.\n",
    "\n",
    "Several months passed in this manner. Her father grew worse; her time was more entirely occupied in attending him;\n",
    "her means of subsistence decreased; and in the tenth month her father died in her arms, leaving her an orphan and\n",
    "a beggar. This last blow overcame her, and she knelt by Beaufort's coffin weeping bitterly, when my father entered\n",
    "the chamber. He came like a protecting spirit to the poor girl, who committed herself to his care; and after the\n",
    "interment of his friend he conducted her to Geneva and placed her under the protection of a relation. Two years\n",
    "after this event Caroline became his wife.\n",
    "\"\"\""
   ]
  },
  {
   "cell_type": "markdown",
   "id": "51bc7585",
   "metadata": {},
   "source": [
    "And the summary we're going to examine:"
   ]
  },
  {
   "cell_type": "code",
   "execution_count": 2,
   "id": "6a1ccbfc",
   "metadata": {},
   "outputs": [],
   "source": [
    "summary_text = \"\"\"The narrator's father was a respected public figure in Geneva. He was friends with a wealthy\n",
    "merchant named Beaufort, who fell into poverty and retreated to Lucerne with his daughter. The narrator's father\n",
    "searched for ten months before finding Beaufort, who was sick and unable to work. Beaufort died after several\n",
    "months, leaving his daughter an orphan and a beggar. The narrator's father took her under his care and eventually\n",
    "married her two years later.\n",
    "\"\"\""
   ]
  },
  {
   "cell_type": "markdown",
   "id": "73f4abc1",
   "metadata": {},
   "source": [
    "## Set up Semantic Kernel\n",
    "\n",
    "We prepare our kernel in the usual way:"
   ]
  },
  {
   "cell_type": "code",
   "execution_count": 3,
   "id": "e13d3519",
   "metadata": {},
   "outputs": [],
   "source": [
    "import semantic_kernel as sk\n",
    "from semantic_kernel.connectors.ai.open_ai import AzureTextCompletion, OpenAITextCompletion\n",
    "\n",
    "kernel = sk.Kernel()\n",
    "\n",
    "useAzureOpenAI = True\n",
    "\n",
    "# Configure AI service used by the kernel\n",
    "if useAzureOpenAI:\n",
    "    deployment, api_key, endpoint = sk.azure_openai_settings_from_dot_env()\n",
    "    kernel.add_text_completion_service(\"dv\", AzureTextCompletion(deployment, endpoint, api_key))\n",
    "else:\n",
    "    api_key, org_id = sk.openai_settings_from_dot_env()\n",
    "    kernel.add_text_completion_service(\"dv\", OpenAITextCompletion(\"text-davinci-003\", api_key, org_id))"
   ]
  },
  {
   "cell_type": "markdown",
   "id": "0c65f786",
   "metadata": {},
   "source": [
    "## Import the Skill\n",
    "\n",
    "We have to import the semantic and native skills in separate calls:"
   ]
  },
  {
   "cell_type": "code",
   "execution_count": 4,
   "id": "56ed7688",
   "metadata": {},
   "outputs": [],
   "source": [
    "# note: using skills from the samples folder\n",
    "skills_directory = \"../../skills\"\n",
    "\n",
    "groundingSemanticFunctions = kernel.import_semantic_skill_from_directory(skills_directory, \"GroundingSkill\")\n",
    "groundingNativeFunctions = kernel.import_native_skill_from_directory(skills_directory, \"GroundingSkill\")"
   ]
  },
  {
   "cell_type": "code",
   "execution_count": null,
   "id": "738eb0ec",
   "metadata": {},
   "outputs": [],
   "source": [
    "entity_extraction = groundingSemanticFunctions[\"EntityExtraction\"]\n",
    "reference_check = groundingSemanticFunctions[\"ReferenceCheck\"]\n",
    "jsonblock_fetch = groundingNativeFunctions[\"ExtractJsonBlock\"]"
   ]
  },
  {
   "cell_type": "markdown",
   "id": "6b48a4a5",
   "metadata": {},
   "source": [
    "## Preparing the context\n",
    "\n",
    "We now create the context in which will will operate. In the beginning, this just specifies the kind of entities we want to check for grounding:"
   ]
  },
  {
   "cell_type": "code",
   "execution_count": null,
   "id": "87d132ac",
   "metadata": {},
   "outputs": [],
   "source": [
    "context = kernel.create_new_context()\n",
    "context[\"topic\"] = \"people and places\"\n",
    "context[\"example_entities\"] = \"names of people, towns and professions\""
   ]
  },
  {
   "cell_type": "markdown",
   "id": "e2abe5e5",
   "metadata": {},
   "source": [
    "## Extracting the entities\n",
    "\n",
    "We're now ready to get the entities from the summary text:"
   ]
  },
  {
   "cell_type": "code",
   "execution_count": null,
   "id": "cc482d90",
   "metadata": {},
   "outputs": [],
   "source": [
    "extraction_result = entity_extraction(summary_text, context=context)"
   ]
  },
  {
   "cell_type": "markdown",
   "id": "83a07b41",
   "metadata": {},
   "source": [
    "Examine the raw result"
   ]
  },
  {
   "cell_type": "code",
   "execution_count": null,
   "id": "4ed73fb7",
   "metadata": {},
   "outputs": [],
   "source": [
    "print(extraction_result.result)"
   ]
  },
  {
   "cell_type": "markdown",
   "id": "839b4a9a",
   "metadata": {},
   "source": [
    "## Reference cross check\n",
    "\n",
    "We now want to see if these entities appear in our grounding text. First, we place the grounding text into the general milieu of our kernel, so it can form background information:"
   ]
  },
  {
   "cell_type": "code",
   "execution_count": null,
   "id": "a06b342d",
   "metadata": {},
   "outputs": [],
   "source": [
    "context[\"reference_context\"] = grounding_text"
   ]
  },
  {
   "cell_type": "markdown",
   "id": "59fdd66f",
   "metadata": {},
   "source": [
    "With our grounding information in place, we can run the reference checking function (you didn't think that the pretty printing of the list of extracted entities was for _your_ benefit, did you?):"
   ]
  },
  {
   "cell_type": "code",
   "execution_count": null,
   "id": "f048386c",
   "metadata": {},
   "outputs": [],
   "source": [
    "grounding_result = reference_check(extraction_result.result, context=context)\n",
    "\n",
    "print(grounding_result.result)"
   ]
  },
  {
   "cell_type": "markdown",
   "id": "97c62801",
   "metadata": {},
   "source": [
    "## Using a Planner"
   ]
  },
  {
   "cell_type": "code",
   "execution_count": 5,
   "id": "9462e9b5",
   "metadata": {},
   "outputs": [],
   "source": [
    "from semantic_kernel.planning.basic_planner import BasicPlanner\n",
    "planner = BasicPlanner()"
   ]
  },
  {
   "cell_type": "code",
   "execution_count": 46,
   "id": "4decaae1",
   "metadata": {},
   "outputs": [
    {
     "name": "stdout",
     "output_type": "stream",
     "text": [
      "I have been given the following summary text:\n",
      "\n",
      "<summary>The narrator's father was a respected public figure in Geneva. He was friends with a wealthy\n",
      "merchant named Beaufort, who fell into poverty and retreated to Lucerne with his daughter. The narrator's father\n",
      "searched for ten months before finding Beaufort, who was sick and unable to work. Beaufort died after several\n",
      "months, leaving his daughter an orphan and a beggar. The narrator's father took her under his care and eventually\n",
      "married her two years later.\n",
      "</summary>\n",
      "\n",
      "This text was based on the following original text:\n",
      "\n",
      "<original>I am by birth a Genevese, and my family is one of the most distinguished of that republic.\n",
      "My ancestors had been for many years counsellors and syndics, and my father had filled several public situations\n",
      "with honour and reputation. He was respected by all who knew him for his integrity and indefatigable attention\n",
      "to public business. He passed his younger days perpetually occupied by the affairs of his country; a variety\n",
      "of circumstances had prevented his marrying early, nor was it until the decline of life that he became a husband\n",
      "and the father of a family.\n",
      "\n",
      "As the circumstances of his marriage illustrate his character, I cannot refrain from relating them. One of his\n",
      "most intimate friends was a merchant who, from a flourishing state, fell, through numerous mischances, into poverty.\n",
      "This man, whose name was Beaufort, was of a proud and unbending disposition and could not bear to live in poverty\n",
      "and oblivion in the same country where he had formerly been distinguished for his rank and magnificence. Having\n",
      "paid his debts, therefore, in the most honourable manner, he retreated with his daughter to the town of Lucerne,\n",
      "where he lived unknown and in wretchedness. My father loved Beaufort with the truest friendship and was deeply\n",
      "grieved by his retreat in these unfortunate circumstances. He bitterly deplored the false pride which led his friend\n",
      "to a conduct so little worthy of the affection that united them. He lost no time in endeavouring to seek him out,\n",
      "with the hope of persuading him to begin the world again through his credit and assistance.\n",
      "\n",
      "Beaufort had taken effectual measures to conceal himself, and it was ten months before my father discovered his\n",
      "abode. Overjoyed at this discovery, he hastened to the house, which was situated in a mean street near the Reuss.\n",
      "But when he entered, misery and despair alone welcomed him. Beaufort had saved but a very small sum of money from\n",
      "the wreck of his fortunes, but it was sufficient to provide him with sustenance for some months, and in the meantime\n",
      "he hoped to procure some respectable employment in a merchant's house. The interval was, consequently, spent in\n",
      "inaction; his grief only became more deep and rankling when he had leisure for reflection, and at length it took\n",
      "so fast hold of his mind that at the end of three months he lay on a bed of sickness, incapable of any exertion.\n",
      "\n",
      "His daughter attended him with the greatest tenderness, but she saw with despair that their little fund was\n",
      "rapidly decreasing and that there was no other prospect of support. But Caroline Beaufort possessed a mind of an\n",
      "uncommon mould, and her courage rose to support her in her adversity. She procured plain work; she plaited straw\n",
      "and by various means contrived to earn a pittance scarcely sufficient to support life.\n",
      "\n",
      "Several months passed in this manner. Her father grew worse; her time was more entirely occupied in attending him;\n",
      "her means of subsistence decreased; and in the tenth month her father died in her arms, leaving her an orphan and\n",
      "a beggar. This last blow overcame her, and she knelt by Beaufort's coffin weeping bitterly, when my father entered\n",
      "the chamber. He came like a protecting spirit to the poor girl, who committed herself to his care; and after the\n",
      "interment of his friend he conducted her to Geneva and placed her under the protection of a relation. Two years\n",
      "after this event Caroline became his wife.\n",
      "</original>\n",
      "\n",
      "I am interested in people (including those directly named,\n",
      "those implied with familial relationships, and professions) and places.\n",
      "\n",
      "I would like the list of people and places which are present in the summary text but which are NOT present in the original text.\n",
      "\n"
     ]
    }
   ],
   "source": [
    "ask = f\"\"\"I have been given the following summary text:\n",
    "\n",
    "<summary>{summary_text}</summary>\n",
    "\n",
    "This text was based on the following original text:\n",
    "\n",
    "<original>{grounding_text}</original>\n",
    "\n",
    "I am interested in people (including those directly named,\n",
    "those implied with familial relationships, and professions) and places.\n",
    "\n",
    "I would like the list of people and places which are present in the summary text but which are NOT present in the original text.\n",
    "\"\"\"\n",
    "\n",
    "print(ask)"
   ]
  },
  {
   "cell_type": "code",
   "execution_count": 47,
   "id": "cc46f1ad",
   "metadata": {},
   "outputs": [],
   "source": [
    "my_plan = await planner.create_plan_async(ask, kernel)"
   ]
  },
  {
   "cell_type": "code",
   "execution_count": 48,
   "id": "443958df",
   "metadata": {},
   "outputs": [
    {
     "name": "stdout",
     "output_type": "stream",
     "text": [
      "{\n",
      "    \"input\": \"<original>I am by birth a Genevese, and my family is one of the most distinguished of that republic. My ancestors had been for many years counsellors and syndics, and my father had filled several public situations with honour and reputation. He was respected by all who knew him for his integrity and indefatigable attention to public business. He passed his younger days perpetually occupied by the affairs of his country; a variety of circumstances had prevented his marrying early, nor was it until the decline of life that he became a husband and the father of a family.\\n\\nAs the circumstances of his marriage illustrate his character, I cannot refrain from relating them. One of his most intimate friends was a merchant who, from a flourishing state, fell, through numerous mischances, into poverty. This man, whose name was Beaufort, was of a proud and unbending disposition and could not bear to live in poverty and oblivion in the same country where he had formerly been distinguished for his rank and magnificence. Having paid his debts, therefore, in the most honourable manner, he retreated with his daughter to the town of Lucerne, where he lived unknown and in wretchedness. My father loved Beaufort with the truest friendship and was deeply grieved by his retreat in these unfortunate circumstances. He bitterly deplored the false pride which led his friend to a conduct so little worthy of the affection that united them. He lost no time in endeavouring to seek him out, with the hope of persuading him to begin the world again through his credit and assistance.\\n\\nBeaufort had taken effectual measures to conceal himself, and it was ten months before my father discovered his abode. Overjoyed at this discovery, he hastened to the house, which was situated in a mean street near the Reuss. But when he entered, misery and despair alone welcomed him. Beaufort had saved but a very small sum of money from the wreck of his fortunes, but it was sufficient to provide him with sustenance for some months, and in the meantime he hoped to procure some respectable employment in a merchant's house. The interval was, consequently, spent in inaction; his grief only became more deep and rankling when he had leisure for reflection, and at length it took so fast hold of his mind that at the end of three months he lay on a bed of sickness, incapable of any exertion.\\n\\nHis daughter attended him with the greatest tenderness, but she saw with despair that their little fund was rapidly decreasing and that there was no other prospect of support. But Caroline Beaufort possessed a mind of an uncommon mould, and her courage rose to support her in her adversity. She procured plain work; she plaited straw and by various means contrived to earn a pittance scarcely sufficient to support life.\\n\\nSeveral months passed in this manner. Her father grew worse; her time was more entirely occupied in attending him; her means of subsistence decreased; and in the tenth month her father died in her arms, leaving her an orphan and a beggar. This last blow overcame her, and she knelt by Beaufort's coffin weeping bitterly, when my father entered the chamber. He came like a protecting spirit to the poor girl, who committed herself to his care; and after the interment of his friend he conducted her to Geneva and placed her under the protection of a relation. Two years after this event Caroline became his wife.</original>\",\n",
      "    \"subtasks\": [\n",
      "        {\"function\": \"GroundingSkill.EntityExtraction\", \"args\": {\"topic\": \"people and places\"}},\n",
      "        {\"function\": \"GroundingSkill.ReferenceCheck\", \"args\": {\"reference_context\": \"<summary>The narrator's father was a respected public figure in Geneva. He was friends with a wealthy merchant named Beaufort, who fell into poverty and retreated to Lucerne with his daughter. The narrator's father searched for ten months before finding Beaufort, who was sick and unable to work. Beaufort died after several months, leaving his daughter an orphan and a beggar. The narrator's father took her under his care and eventually married her two years later.</summary>\"}}\n",
      "    ]\n",
      "}\n"
     ]
    }
   ],
   "source": [
    "print(my_plan.generated_plan)"
   ]
  },
  {
   "cell_type": "code",
   "execution_count": 49,
   "id": "d4f951ac",
   "metadata": {},
   "outputs": [],
   "source": [
    "results = await planner.execute_plan_async(my_plan, kernel)"
   ]
  },
  {
   "cell_type": "code",
   "execution_count": 50,
   "id": "ee3cffcd",
   "metadata": {},
   "outputs": [
    {
     "name": "stdout",
     "output_type": "stream",
     "text": [
      "\n",
      "- Genevese\n",
      "- Counsellors\n",
      "- Syndics\n",
      "- Public situations\n",
      "- Beaufort\n",
      "- Reuss\n",
      "- Merchant's house\n",
      "- Caroline Beaufort\n"
     ]
    }
   ],
   "source": [
    "print(results)"
   ]
  },
  {
   "cell_type": "code",
   "execution_count": 23,
   "id": "c3952387",
   "metadata": {},
   "outputs": [
    {
     "name": "stdout",
     "output_type": "stream",
     "text": [
      "\n",
      "You are a planner for the Semantic Kernel.\n",
      "Your job is to create a properly formatted JSON plan step by step, to satisfy the goal given.\n",
      "Create a list of subtasks based off the [GOAL] provided.\n",
      "Each subtask must be from within the [AVAILABLE FUNCTIONS] list. Do not use any functions that are not in the list.\n",
      "Base your decisions on which functions to use from the description and the name of the function.\n",
      "Sometimes, a function may take arguments. Provide them if necessary.\n",
      "The plan should be as short as possible.\n",
      "For example:\n",
      "\n",
      "[AVAILABLE FUNCTIONS]\n",
      "EmailConnector.LookupContactEmail\n",
      "description: looks up the a contact and retrieves their email address\n",
      "args:\n",
      "- name: the name to look up\n",
      "\n",
      "WriterSkill.EmailTo\n",
      "description: email the input text to a recipient\n",
      "args:\n",
      "- input: the text to email\n",
      "- recipient: the recipient's email address. Multiple addresses may be included if separated by ';'.\n",
      "\n",
      "WriterSkill.Translate\n",
      "description: translate the input to another language\n",
      "args:\n",
      "- input: the text to translate\n",
      "- language: the language to translate to\n",
      "\n",
      "WriterSkill.Summarize\n",
      "description: summarize input text\n",
      "args:\n",
      "- input: the text to summarize\n",
      "\n",
      "FunSkill.Joke\n",
      "description: Generate a funny joke\n",
      "args:\n",
      "- input: the input to generate a joke about\n",
      "\n",
      "[GOAL]\n",
      "\"Tell a joke about cars. Translate it to Spanish\"\n",
      "\n",
      "[OUTPUT]\n",
      "    {\n",
      "        \"input\": \"cars\",\n",
      "        \"subtasks\": [\n",
      "            {\"function\": \"FunSkill.Joke\"},\n",
      "            {\"function\": \"WriterSkill.Translate\", \"args\": {\"language\": \"Spanish\"}}\n",
      "        ]\n",
      "    }\n",
      "\n",
      "[AVAILABLE FUNCTIONS]\n",
      "WriterSkill.Brainstorm\n",
      "description: Brainstorm ideas\n",
      "args:\n",
      "- input: the input to brainstorm about\n",
      "\n",
      "EdgarAllenPoeSkill.Poe\n",
      "description: Write in the style of author Edgar Allen Poe\n",
      "args:\n",
      "- input: the input to write about\n",
      "\n",
      "WriterSkill.EmailTo\n",
      "description: Write an email to a recipient\n",
      "args:\n",
      "- input: the input to write about\n",
      "- recipient: the recipient's email address.\n",
      "\n",
      "WriterSkill.Translate\n",
      "description: translate the input to another language\n",
      "args:\n",
      "- input: the text to translate\n",
      "- language: the language to translate to\n",
      "\n",
      "[GOAL]\n",
      "\"Tomorrow is Valentine's day. I need to come up with a few date ideas.\n",
      "She likes Edgar Allen Poe so write using his style.\n",
      "E-mail these ideas to my significant other. Translate it to French.\"\n",
      "\n",
      "[OUTPUT]\n",
      "    {\n",
      "        \"input\": \"Valentine's Day Date Ideas\",\n",
      "        \"subtasks\": [\n",
      "            {\"function\": \"WriterSkill.Brainstorm\"},\n",
      "            {\"function\": \"EdgarAllenPoeSkill.Poe\"},\n",
      "            {\"function\": \"WriterSkill.EmailTo\", \"args\": {\"recipient\": \"significant_other\"}},\n",
      "            {\"function\": \"translate\", \"args\": {\"language\": \"French\"}}\n",
      "        ]\n",
      "    }\n",
      "\n",
      "[AVAILABLE FUNCTIONS]\n",
      "{{$available_functions}}\n",
      "\n",
      "[GOAL]\n",
      "{{$goal}}\n",
      "\n",
      "[OUTPUT]\n",
      "\n"
     ]
    }
   ],
   "source": [
    "print(my_plan.prompt)"
   ]
  },
  {
   "cell_type": "code",
   "execution_count": null,
   "id": "bf0ff149",
   "metadata": {},
   "outputs": [],
   "source": []
  }
 ],
 "metadata": {
  "kernelspec": {
   "display_name": "Python 3 (ipykernel)",
   "language": "python",
   "name": "python3"
  },
  "language_info": {
   "codemirror_mode": {
    "name": "ipython",
    "version": 3
   },
   "file_extension": ".py",
   "mimetype": "text/x-python",
   "name": "python",
   "nbconvert_exporter": "python",
   "pygments_lexer": "ipython3",
   "version": "3.11.3"
  }
 },
 "nbformat": 4,
 "nbformat_minor": 5
}
